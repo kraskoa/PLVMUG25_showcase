{
 "cells": [
  {
   "cell_type": "markdown",
   "id": "7186c2a9",
   "metadata": {},
   "source": [
    "# Dotrenowanie modelu językowego do dowolnego zadania"
   ]
  },
  {
   "cell_type": "markdown",
   "id": "84c4fe07",
   "metadata": {},
   "source": []
  }
 ],
 "metadata": {
  "kernelspec": {
   "display_name": ".venv",
   "language": "python",
   "name": "python3"
  },
  "language_info": {
   "name": "python",
   "version": "3.10.15"
  }
 },
 "nbformat": 4,
 "nbformat_minor": 5
}
