{
 "cells": [
  {
   "cell_type": "markdown",
   "id": "7186c2a9",
   "metadata": {},
   "source": [
    "# Dotrenowanie modelu językowego do dowolnego zadania"
   ]
  },
  {
   "cell_type": "markdown",
   "id": "84c4fe07",
   "metadata": {},
   "source": []
  },
  {
   "cell_type": "code",
   "execution_count": 1,
   "id": "f4b0dd59",
   "metadata": {},
   "outputs": [
    {
     "name": "stderr",
     "output_type": "stream",
     "text": [
      "/home/kraskoa/Templates/inne/PLVMUG/PLVMUG25_showcase/.venv/lib/python3.10/site-packages/tqdm/auto.py:21: TqdmWarning: IProgress not found. Please update jupyter and ipywidgets. See https://ipywidgets.readthedocs.io/en/stable/user_install.html\n",
      "  from .autonotebook import tqdm as notebook_tqdm\n"
     ]
    }
   ],
   "source": [
    "import torch\n",
    "import datasets\n",
    "import numpy as np\n",
    "from transformers import (\n",
    "    AutoTokenizer,\n",
    "    AutoModelForSequenceClassification,\n",
    "    Trainer,\n",
    "    TrainingArguments,\n",
    "    DataCollatorWithPadding,\n",
    "    EarlyStoppingCallback,\n",
    ")\n",
    "from sklearn.metrics import (\n",
    "    accuracy_score,\n",
    "    confusion_matrix,\n",
    "    ConfusionMatrixDisplay,\n",
    ")\n",
    "import evaluate"
   ]
  },
  {
   "cell_type": "markdown",
   "id": "a8b6e543",
   "metadata": {},
   "source": [
    "## Wybór urządzenia do przeprowadzania obliczeń, biblioteka Torch umożliwia bardzo łatwe przejście na obliczenia na GPU"
   ]
  },
  {
   "cell_type": "code",
   "execution_count": 2,
   "id": "e9610ff2",
   "metadata": {},
   "outputs": [
    {
     "data": {
      "text/plain": [
       "device(type='cuda')"
      ]
     },
     "execution_count": 2,
     "metadata": {},
     "output_type": "execute_result"
    }
   ],
   "source": [
    "device = torch.device(\"cuda\" if torch.cuda.is_available() else \"cpu\")\n",
    "device"
   ]
  },
  {
   "cell_type": "code",
   "execution_count": 3,
   "id": "a070326b",
   "metadata": {},
   "outputs": [],
   "source": [
    "# Załadowanie zbioru danych\n",
    "dataset = datasets.load_dataset(\"zefang-liu/phishing-email-dataset\", split='train').train_test_split(test_size=0.1)"
   ]
  },
  {
   "cell_type": "code",
   "execution_count": 4,
   "id": "b1617ac9",
   "metadata": {},
   "outputs": [
    {
     "data": {
      "text/plain": [
       "DatasetDict({\n",
       "    train: Dataset({\n",
       "        features: ['Unnamed: 0', 'Email Text', 'Email Type'],\n",
       "        num_rows: 16785\n",
       "    })\n",
       "    test: Dataset({\n",
       "        features: ['Unnamed: 0', 'Email Text', 'Email Type'],\n",
       "        num_rows: 1865\n",
       "    })\n",
       "})"
      ]
     },
     "execution_count": 4,
     "metadata": {},
     "output_type": "execute_result"
    }
   ],
   "source": [
    "dataset"
   ]
  },
  {
   "cell_type": "code",
   "execution_count": 5,
   "id": "11662d96",
   "metadata": {},
   "outputs": [
    {
     "name": "stdout",
     "output_type": "stream",
     "text": [
      "Dataset size: 18650\n",
      "Train dataset size: 81.00%\n",
      "Test dataset size: 10.00%\n",
      "Validation dataset size: 9.00%\n"
     ]
    }
   ],
   "source": [
    "# Ekstrakcja zbioru walidacyjnego i testowego\n",
    "full_train_split = dataset['train'].train_test_split(test_size=0.1)\n",
    "\n",
    "train_dataset = full_train_split['train']\n",
    "val_dataset = full_train_split['test']\n",
    "test_dataset = dataset['test']\n",
    "\n",
    "# Sprawdzenie rozmiarów zbiorów danych po podziale\n",
    "print(f\"Dataset size: {len(train_dataset) + len(test_dataset) + len(val_dataset)}\")\n",
    "print(f\"Train dataset size: {len(train_dataset) / (len(train_dataset) + len(test_dataset) + len(val_dataset)) * 100:.2f}%\")\n",
    "print(f\"Test dataset size: {len(test_dataset) / (len(train_dataset) + len(test_dataset) + len(val_dataset)) * 100:.2f}%\")\n",
    "print(f\"Validation dataset size: {len(val_dataset) / (len(train_dataset) + len(test_dataset) + len(val_dataset)) * 100:.2f}%\")"
   ]
  },
  {
   "cell_type": "code",
   "execution_count": 6,
   "id": "199c09da",
   "metadata": {},
   "outputs": [
    {
     "data": {
      "text/plain": [
       "{'Unnamed: 0': 9550,\n",
       " 'Email Text': \"power trading hi folks : very glad to hear about the new developments . just to recap what we discussed this morning about different things you need to look into to set up trading operations and the contacts : 1 . licence to trade : regulatory people : i guess you know about this part better than me . 2 . trading & risk mgmt : global risk mgmt oversight : john sherrif in london has the overall responsibility outside western hemisphere . research group can help with the structuring models used for trading . 3 . risk conrols : before trading group is operational , it needs to get the authorization from the board of directors of enron along with total position limits and possibly value @ risk limits . these limits are typically by commodity type and by region . risk assessment & control ( rac ) under rick buy performs the internal control function ensuring that the businesses adhere to these trading limits . ted murphy is the vp in rac overseeing the trading operations . the value @ risk models come from the research group , but day - to - day monitoring of the numbers is done by ted ' s group . 4 . credit risk : a credit reserve number is computed for each deal ( again , the models are created by research ) and is transferred to the credit group under bill bradford ( also in rac ) . this is basically like buying insurance from the corp . , so that if there is a couterparty default , the loss is covered by the reserve pool of the credit dept . 5 . legal : the name i was given is alan aronowitz for legal help . 6 . back office : initially can survive with excel spreadsheets . you should contact the it though when the plans finalize to talk about systems . australia is the most recent place where we set up the trading operations . you can talk to paul quilky , the trader there to talk about these issues ( mention to him that grant masson in research gave his name ) . barry pierce in london was incharge of back office at the begin there . i can coordinate for talking with people next week . give me a call monday if possible . i hadn ' t the time to search for the presentation stuff today . will do it next week . krishna .\",\n",
       " 'Email Type': 'Safe Email'}"
      ]
     },
     "execution_count": 6,
     "metadata": {},
     "output_type": "execute_result"
    }
   ],
   "source": [
    "train_dataset[42]"
   ]
  },
  {
   "cell_type": "markdown",
   "id": "314ee966",
   "metadata": {},
   "source": [
    "## Procesowanie danych i kodowanie"
   ]
  },
  {
   "cell_type": "code",
   "execution_count": 7,
   "id": "9cbeb226",
   "metadata": {},
   "outputs": [
    {
     "name": "stderr",
     "output_type": "stream",
     "text": [
      "Flattening the indices: 100%|██████████| 15106/15106 [00:00<00:00, 47964.40 examples/s]\n"
     ]
    },
    {
     "name": "stdout",
     "output_type": "stream",
     "text": [
      "Etykiety: ['Safe Email', 'Phishing Email']\n"
     ]
    }
   ],
   "source": [
    "labels = train_dataset.unique(column=\"Email Type\")\n",
    "print(\"Etykiety:\", labels)\n",
    "\n",
    "id2label = {idx: label for idx, label in enumerate(labels)}\n",
    "label2id = {label: idx for idx, label in enumerate(labels)}"
   ]
  },
  {
   "cell_type": "code",
   "execution_count": 8,
   "id": "82f943de",
   "metadata": {},
   "outputs": [
    {
     "name": "stderr",
     "output_type": "stream",
     "text": [
      "Map: 100%|██████████| 15106/15106 [00:20<00:00, 738.24 examples/s] \n",
      "Map: 100%|██████████| 1679/1679 [00:00<00:00, 3731.43 examples/s]\n",
      "Map: 100%|██████████| 1865/1865 [00:00<00:00, 3746.68 examples/s]"
     ]
    },
    {
     "name": "stdout",
     "output_type": "stream",
     "text": [
      "Tokenizacja zakończona.\n"
     ]
    },
    {
     "name": "stderr",
     "output_type": "stream",
     "text": [
      "\n"
     ]
    }
   ],
   "source": [
    "# Tokenizacja danych\n",
    "model_name = \"google-bert/bert-base-uncased\"\n",
    "tokenizer = AutoTokenizer.from_pretrained(model_name)\n",
    "\n",
    "def preprocess_function(examples):\n",
    "    texts = examples[\"Email Text\"]\n",
    "    labels = examples[\"Email Type\"]\n",
    "\n",
    "    texts = [text if text is not None else \"\" for text in texts]\n",
    "    labels = [label if label is not None else \"Safe Email\" for label in labels]\n",
    "\n",
    "    tokenized_outputs = tokenizer(\n",
    "        texts,\n",
    "        truncation=True,\n",
    "        padding=\"max_length\",\n",
    "        max_length=512\n",
    "    )\n",
    "\n",
    "    tokenized_outputs[\"labels\"] = [label2id[label] for label in labels]\n",
    "\n",
    "    return tokenized_outputs\n",
    "\n",
    "tokenized_train = train_dataset.map(preprocess_function, batched=True)\n",
    "tokenized_val = val_dataset.map(preprocess_function, batched=True)\n",
    "tokenized_test = test_dataset.map(preprocess_function, batched=True)\n",
    "\n",
    "print(\"Tokenizacja zakończona.\")\n"
   ]
  },
  {
   "cell_type": "code",
   "execution_count": 9,
   "id": "c0de3aa3",
   "metadata": {},
   "outputs": [
    {
     "name": "stderr",
     "output_type": "stream",
     "text": [
      "Some weights of BertForSequenceClassification were not initialized from the model checkpoint at google-bert/bert-base-uncased and are newly initialized: ['classifier.bias', 'classifier.weight']\n",
      "You should probably TRAIN this model on a down-stream task to be able to use it for predictions and inference.\n"
     ]
    },
    {
     "name": "stdout",
     "output_type": "stream",
     "text": [
      "BertForSequenceClassification(\n",
      "  (bert): BertModel(\n",
      "    (embeddings): BertEmbeddings(\n",
      "      (word_embeddings): Embedding(30522, 768, padding_idx=0)\n",
      "      (position_embeddings): Embedding(512, 768)\n",
      "      (token_type_embeddings): Embedding(2, 768)\n",
      "      (LayerNorm): LayerNorm((768,), eps=1e-12, elementwise_affine=True)\n",
      "      (dropout): Dropout(p=0.1, inplace=False)\n",
      "    )\n",
      "    (encoder): BertEncoder(\n",
      "      (layer): ModuleList(\n",
      "        (0-11): 12 x BertLayer(\n",
      "          (attention): BertAttention(\n",
      "            (self): BertSdpaSelfAttention(\n",
      "              (query): Linear(in_features=768, out_features=768, bias=True)\n",
      "              (key): Linear(in_features=768, out_features=768, bias=True)\n",
      "              (value): Linear(in_features=768, out_features=768, bias=True)\n",
      "              (dropout): Dropout(p=0.1, inplace=False)\n",
      "            )\n",
      "            (output): BertSelfOutput(\n",
      "              (dense): Linear(in_features=768, out_features=768, bias=True)\n",
      "              (LayerNorm): LayerNorm((768,), eps=1e-12, elementwise_affine=True)\n",
      "              (dropout): Dropout(p=0.1, inplace=False)\n",
      "            )\n",
      "          )\n",
      "          (intermediate): BertIntermediate(\n",
      "            (dense): Linear(in_features=768, out_features=3072, bias=True)\n",
      "            (intermediate_act_fn): GELUActivation()\n",
      "          )\n",
      "          (output): BertOutput(\n",
      "            (dense): Linear(in_features=3072, out_features=768, bias=True)\n",
      "            (LayerNorm): LayerNorm((768,), eps=1e-12, elementwise_affine=True)\n",
      "            (dropout): Dropout(p=0.1, inplace=False)\n",
      "          )\n",
      "        )\n",
      "      )\n",
      "    )\n",
      "    (pooler): BertPooler(\n",
      "      (dense): Linear(in_features=768, out_features=768, bias=True)\n",
      "      (activation): Tanh()\n",
      "    )\n",
      "  )\n",
      "  (dropout): Dropout(p=0.1, inplace=False)\n",
      "  (classifier): Linear(in_features=768, out_features=2, bias=True)\n",
      ")\n",
      "\n",
      "\n",
      "Zajętość pamięci przez model: 0.408GB\n"
     ]
    }
   ],
   "source": [
    "model = AutoModelForSequenceClassification.from_pretrained(\n",
    "    model_name,\n",
    "    num_labels=2,\n",
    "    id2label=id2label,\n",
    "    label2id=label2id,\n",
    ")\n",
    "\n",
    "print(model)\n",
    "print(f\"\\n\\nZajętość pamięci przez model: {model.get_memory_footprint() / 1024**3:0.3f}GB\")"
   ]
  },
  {
   "cell_type": "code",
   "execution_count": 10,
   "id": "ab66f226",
   "metadata": {},
   "outputs": [],
   "source": [
    "# Pełny fine-tuning\n",
    "for param in model.base_model.parameters():\n",
    "    param.requires_grad = True"
   ]
  },
  {
   "cell_type": "code",
   "execution_count": 11,
   "id": "a8d446a9",
   "metadata": {},
   "outputs": [],
   "source": [
    "accuracy_metric = evaluate.load(\"accuracy\")\n",
    "f1_metric = evaluate.load(\"f1\")\n",
    "\n",
    "def compute_metrics(eval_pred):\n",
    "    logits, labels = eval_pred\n",
    "    predictions = np.argmax(logits, axis=-1)\n",
    "\n",
    "    accuracy = accuracy_metric.compute(predictions=predictions, references=labels)\n",
    "    f1 = f1_metric.compute(predictions=predictions, references=labels)\n",
    "\n",
    "    return {\"accuracy\": accuracy[\"accuracy\"], \"f1\": f1[\"f1\"]}"
   ]
  },
  {
   "cell_type": "code",
   "execution_count": 12,
   "id": "681e3320",
   "metadata": {},
   "outputs": [],
   "source": [
    "args = TrainingArguments(\n",
    "    output_dir=\"bert-finetuned-phishing-detection\",\n",
    "    eval_strategy=\"epoch\",\n",
    "    save_strategy=\"epoch\",\n",
    "    learning_rate=2e-5,\n",
    "    per_device_train_batch_size=16,\n",
    "    per_device_eval_batch_size=16,\n",
    "    num_train_epochs=10,\n",
    "    weight_decay=0.01,\n",
    "    load_best_model_at_end=True,\n",
    "    metric_for_best_model='f1',\n",
    "    gradient_accumulation_steps=2,\n",
    "    fp16=True,\n",
    ")\n",
    "\n",
    "trainer = Trainer(\n",
    "    model=model,\n",
    "    args=args,\n",
    "    train_dataset=tokenized_train,\n",
    "    eval_dataset=tokenized_val,\n",
    "    processing_class=tokenizer,\n",
    "    data_collator=DataCollatorWithPadding(tokenizer=tokenizer),\n",
    "    compute_metrics=compute_metrics,\n",
    "    callbacks=[EarlyStoppingCallback(early_stopping_patience=2)],\n",
    ")"
   ]
  },
  {
   "cell_type": "code",
   "execution_count": 13,
   "id": "d4e39c07",
   "metadata": {},
   "outputs": [
    {
     "data": {
      "text/html": [
       "\n",
       "    <div>\n",
       "      \n",
       "      <progress value='2838' max='4730' style='width:300px; height:20px; vertical-align: middle;'></progress>\n",
       "      [2838/4730 37:38 < 25:06, 1.26 it/s, Epoch 6/10]\n",
       "    </div>\n",
       "    <table border=\"1\" class=\"dataframe\">\n",
       "  <thead>\n",
       " <tr style=\"text-align: left;\">\n",
       "      <th>Epoch</th>\n",
       "      <th>Training Loss</th>\n",
       "      <th>Validation Loss</th>\n",
       "      <th>Accuracy</th>\n",
       "      <th>F1</th>\n",
       "    </tr>\n",
       "  </thead>\n",
       "  <tbody>\n",
       "    <tr>\n",
       "      <td>1</td>\n",
       "      <td>No log</td>\n",
       "      <td>0.049814</td>\n",
       "      <td>0.979750</td>\n",
       "      <td>0.973846</td>\n",
       "    </tr>\n",
       "    <tr>\n",
       "      <td>2</td>\n",
       "      <td>0.135200</td>\n",
       "      <td>0.124122</td>\n",
       "      <td>0.966647</td>\n",
       "      <td>0.956044</td>\n",
       "    </tr>\n",
       "    <tr>\n",
       "      <td>3</td>\n",
       "      <td>0.044900</td>\n",
       "      <td>0.048289</td>\n",
       "      <td>0.982728</td>\n",
       "      <td>0.977709</td>\n",
       "    </tr>\n",
       "    <tr>\n",
       "      <td>4</td>\n",
       "      <td>0.029000</td>\n",
       "      <td>0.049209</td>\n",
       "      <td>0.983323</td>\n",
       "      <td>0.978560</td>\n",
       "    </tr>\n",
       "    <tr>\n",
       "      <td>5</td>\n",
       "      <td>0.025900</td>\n",
       "      <td>0.049898</td>\n",
       "      <td>0.982728</td>\n",
       "      <td>0.977744</td>\n",
       "    </tr>\n",
       "    <tr>\n",
       "      <td>6</td>\n",
       "      <td>0.023300</td>\n",
       "      <td>0.050467</td>\n",
       "      <td>0.983323</td>\n",
       "      <td>0.978495</td>\n",
       "    </tr>\n",
       "  </tbody>\n",
       "</table><p>"
      ],
      "text/plain": [
       "<IPython.core.display.HTML object>"
      ]
     },
     "metadata": {},
     "output_type": "display_data"
    },
    {
     "data": {
      "text/plain": [
       "TrainOutput(global_step=2838, training_loss=0.048142298751519215, metrics={'train_runtime': 2259.8938, 'train_samples_per_second': 66.844, 'train_steps_per_second': 2.093, 'total_flos': 2.384733361360896e+16, 'train_loss': 0.048142298751519215, 'epoch': 6.0})"
      ]
     },
     "execution_count": 13,
     "metadata": {},
     "output_type": "execute_result"
    }
   ],
   "source": [
    "trainer.train()"
   ]
  },
  {
   "cell_type": "code",
   "execution_count": 15,
   "id": "045c0b76",
   "metadata": {},
   "outputs": [
    {
     "name": "stdout",
     "output_type": "stream",
     "text": [
      "Dokładność dotrenowanego modelu na zbiorze testowym: 0.9833\n",
      "{'eval_loss': 0.04920933023095131, 'eval_accuracy': 0.9833234067897558, 'eval_f1': 0.9785604900459418, 'eval_runtime': 11.6688, 'eval_samples_per_second': 143.887, 'eval_steps_per_second': 8.998, 'epoch': 6.0}\n"
     ]
    }
   ],
   "source": [
    "evaluation_results = trainer.evaluate()\n",
    "print(f\"Dokładność dotrenowanego modelu na zbiorze testowym: {evaluation_results['eval_accuracy']:.4f}\")\n",
    "print(evaluation_results)"
   ]
  }
 ],
 "metadata": {
  "kernelspec": {
   "display_name": ".venv",
   "language": "python",
   "name": "python3"
  },
  "language_info": {
   "codemirror_mode": {
    "name": "ipython",
    "version": 3
   },
   "file_extension": ".py",
   "mimetype": "text/x-python",
   "name": "python",
   "nbconvert_exporter": "python",
   "pygments_lexer": "ipython3",
   "version": "3.10.15"
  }
 },
 "nbformat": 4,
 "nbformat_minor": 5
}
